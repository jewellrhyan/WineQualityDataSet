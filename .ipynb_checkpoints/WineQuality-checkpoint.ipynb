{
 "cells": [
  {
   "cell_type": "markdown",
   "metadata": {},
   "source": [
    "**Wine Quality Data Set**"
   ]
  },
  {
   "cell_type": "code",
   "execution_count": 1,
   "metadata": {},
   "outputs": [],
   "source": [
    "#import libraries\n",
    "import pandas as pd \n",
    "import numpy as np\n",
    "import matplotlib.pyplot as plt\n",
    "import seaborn as sns\n",
    "\n",
    "#reads the data set\n",
    "labels = ('fixed_acidity','volatile_acidity','citric_acid','residual_sugar','chlorides','free_sulfur_dioxide','total_sulfur_dioxide','density','pH','sulphates','alcohol','quality')\n",
    "wd_white = pd.read_csv('./data/winequality-white.csv', header = 0, names = labels,sep = ';')\n",
    "wd_red = pd.read_csv('./data/winequality-red.csv', header = 0, names = labels, sep = ';')\n",
    "whiteData = np.genfromtxt('./data/winequality-white.csv', skip_header=1, delimiter=';')\n",
    "redData = np.genfromtxt('./data/winequality-red.csv', skip_header=1, delimiter=';')"
   ]
  },
  {
   "cell_type": "code",
   "execution_count": 28,
   "metadata": {},
   "outputs": [
    {
     "name": "stdout",
     "output_type": "stream",
     "text": [
      "[[ 7.    0.27  0.36 ...  0.45  8.8   6.  ]\n",
      " [ 6.3   0.3   0.34 ...  0.49  9.5   6.  ]\n",
      " [ 8.1   0.28  0.4  ...  0.44 10.1   6.  ]\n",
      " ...\n",
      " [ 6.5   0.24  0.19 ...  0.46  9.4   6.  ]\n",
      " [ 5.5   0.29  0.3  ...  0.38 12.8   7.  ]\n",
      " [ 6.    0.21  0.38 ...  0.32 11.8   6.  ]]\n"
     ]
    }
   ],
   "source": [
    "#evaluates the data from the white wine \n",
    "# wd_white.head() #returns the first n-rows for the object based on position\n",
    "print(whiteData)"
   ]
  },
  {
   "cell_type": "code",
   "execution_count": 39,
   "metadata": {},
   "outputs": [
    {
     "name": "stdout",
     "output_type": "stream",
     "text": [
      "[[ 7.4    0.7    0.    ...  0.56   9.4    5.   ]\n",
      " [ 7.8    0.88   0.    ...  0.68   9.8    5.   ]\n",
      " [ 7.8    0.76   0.04  ...  0.65   9.8    5.   ]\n",
      " ...\n",
      " [ 6.3    0.51   0.13  ...  0.75  11.     6.   ]\n",
      " [ 5.9    0.645  0.12  ...  0.71  10.2    5.   ]\n",
      " [ 6.     0.31   0.47  ...  0.66  11.     6.   ]]\n"
     ]
    }
   ],
   "source": [
    "#evaluate the data from the red wine\n",
    "# wd_red.head() #returns the first n-rows for the object based on position\n",
    "print(redData)"
   ]
  },
  {
   "cell_type": "code",
   "execution_count": 4,
   "metadata": {},
   "outputs": [
    {
     "name": "stdout",
     "output_type": "stream",
     "text": [
      "<class 'pandas.core.frame.DataFrame'>\n",
      "RangeIndex: 1599 entries, 0 to 1598\n",
      "Data columns (total 12 columns):\n",
      " #   Column                Non-Null Count  Dtype  \n",
      "---  ------                --------------  -----  \n",
      " 0   fixed_acidity         1599 non-null   float64\n",
      " 1   volatile_acidity      1599 non-null   float64\n",
      " 2   citric_acid           1599 non-null   float64\n",
      " 3   residual_sugar        1599 non-null   float64\n",
      " 4   chlorides             1599 non-null   float64\n",
      " 5   free_sulfur_dioxide   1599 non-null   float64\n",
      " 6   total_sulfur_dioxide  1599 non-null   float64\n",
      " 7   density               1599 non-null   float64\n",
      " 8   pH                    1599 non-null   float64\n",
      " 9   sulphates             1599 non-null   float64\n",
      " 10  alcohol               1599 non-null   float64\n",
      " 11  quality               1599 non-null   int64  \n",
      "dtypes: float64(11), int64(1)\n",
      "memory usage: 150.0 KB\n"
     ]
    }
   ],
   "source": [
    "wd_red.info() #displays the red wine info"
   ]
  },
  {
   "cell_type": "code",
   "execution_count": 5,
   "metadata": {},
   "outputs": [
    {
     "name": "stdout",
     "output_type": "stream",
     "text": [
      "<class 'pandas.core.frame.DataFrame'>\n",
      "RangeIndex: 4898 entries, 0 to 4897\n",
      "Data columns (total 12 columns):\n",
      " #   Column                Non-Null Count  Dtype  \n",
      "---  ------                --------------  -----  \n",
      " 0   fixed_acidity         4898 non-null   float64\n",
      " 1   volatile_acidity      4898 non-null   float64\n",
      " 2   citric_acid           4898 non-null   float64\n",
      " 3   residual_sugar        4898 non-null   float64\n",
      " 4   chlorides             4898 non-null   float64\n",
      " 5   free_sulfur_dioxide   4898 non-null   float64\n",
      " 6   total_sulfur_dioxide  4898 non-null   float64\n",
      " 7   density               4898 non-null   float64\n",
      " 8   pH                    4898 non-null   float64\n",
      " 9   sulphates             4898 non-null   float64\n",
      " 10  alcohol               4898 non-null   float64\n",
      " 11  quality               4898 non-null   int64  \n",
      "dtypes: float64(11), int64(1)\n",
      "memory usage: 459.3 KB\n"
     ]
    }
   ],
   "source": [
    "wd_white.info() #displays the white wine info"
   ]
  },
  {
   "cell_type": "markdown",
   "metadata": {},
   "source": [
    "# Data Exploration"
   ]
  },
  {
   "cell_type": "code",
   "execution_count": 2,
   "metadata": {},
   "outputs": [
    {
     "name": "stdout",
     "output_type": "stream",
     "text": [
      "White Wine Data Exploration\n",
      "\n",
      "White Data Feature: Fixed_Acidity\n",
      "Maximum: 14.2\n",
      "Minimum: 3.8\n",
      "Mean: 6.854787668436097\n",
      "Variance: 0.7119681970549558\n",
      "Standard Deviation: 0.8437820791264506\n",
      "\n",
      "White Data Feature: Volatile_Acidity\n",
      "Maximum: 1.1\n",
      "Minimum: 0.08\n",
      "Mean: 0.27824111882400976\n",
      "Variance: 0.010157466769838475\n",
      "Standard Deviation: 0.10078425854188974\n",
      "\n",
      "White Data Feature: Citric_Acid\n",
      "Maximum: 1.66\n",
      "Minimum: 0.0\n",
      "Mean: 0.33419150673744386\n",
      "Variance: 0.014642802851506794\n",
      "Standard Deviation: 0.12100744957029214\n",
      "\n",
      "White Data Feature: Residual_Sugar\n",
      "Maximum: 65.8\n",
      "Minimum: 0.6\n",
      "Mean: 6.391414863209474\n",
      "Variance: 25.720517863413225\n",
      "Standard Deviation: 5.071539989333933\n",
      "\n",
      "White Data Feature: Chlorides\n",
      "Maximum: 0.346\n",
      "Minimum: 0.009\n",
      "Mean: 0.04577235606369946\n",
      "Variance: 0.00047723625500429255\n",
      "Standard Deviation: 0.02184573768505638\n",
      "\n",
      "White Data Feature: Free_Sulfur_Dioxide\n",
      "Maximum: 289.0\n",
      "Minimum: 2.0\n",
      "Mean: 35.30808493262556\n",
      "Variance: 289.18366676943\n",
      "Standard Deviation: 17.005401105808414\n",
      "\n",
      "White Data Feature: Total_Sulfur_Dioxide\n",
      "Maximum: 440.0\n",
      "Minimum: 9.0\n",
      "Mean: 138.36065741118824\n",
      "Variance: 1805.7167514665443\n",
      "Standard Deviation: 42.49372602475034\n",
      "\n",
      "White Data Feature: Density\n",
      "Maximum: 1.03898\n",
      "Minimum: 0.98711\n",
      "Mean: 0.9940273764801959\n",
      "Variance: 8.943697823146287e-06\n",
      "Standard Deviation: 0.0029906015821480275\n",
      "\n",
      "White Data Feature: Ph\n",
      "Maximum: 3.82\n",
      "Minimum: 2.72\n",
      "Mean: 3.1882666394446715\n",
      "Variance: 0.022796525881765055\n",
      "Standard Deviation: 0.15098518431212068\n",
      "\n",
      "White Data Feature: Sulphates\n",
      "Maximum: 1.08\n",
      "Minimum: 0.22\n",
      "Mean: 0.48984687627603113\n",
      "Variance: 0.013022046785873218\n",
      "Standard Deviation: 0.1141141831056649\n",
      "\n",
      "White Data Feature: Alcohol\n",
      "Maximum: 14.2\n",
      "Minimum: 8.0\n",
      "Mean: 10.514267047774602\n",
      "Variance: 1.5141177888551698\n",
      "Standard Deviation: 1.2304949365418656\n",
      "\n",
      "White Data Feature: Quality\n",
      "Maximum: 9.0\n",
      "Minimum: 3.0\n",
      "Mean: 5.87790935075541\n",
      "Variance: 0.78419554751975\n",
      "Standard Deviation: 0.8855481621683543\n",
      "\n"
     ]
    }
   ],
   "source": [
    "print('White Wine Data Exploration\\n')\n",
    "\n",
    "for i in range(whiteData.shape[-1]):\n",
    "    print('White Data Feature:', labels[i].title())\n",
    "    print('Maximum:', np.max(whiteData[:, i]))\n",
    "    print('Minimum:', np.min(whiteData[:, i]))\n",
    "    print('Mean:', np.mean(whiteData[:, i]))\n",
    "    print('Variance:', np.var(whiteData[:, i]))\n",
    "    print('Standard Deviation:', np.std(whiteData[:, i]))\n",
    "    print()"
   ]
  },
  {
   "cell_type": "code",
   "execution_count": 3,
   "metadata": {},
   "outputs": [
    {
     "name": "stdout",
     "output_type": "stream",
     "text": [
      "Red Wine Data Exploration\n",
      "\n",
      "Red Data Feature: Fixed_Acidity\n",
      "Maximum: 15.9\n",
      "Minimmum: 4.6\n",
      "Mean: 8.31963727329581\n",
      "Variance: 3.0295205688671114\n",
      "Standard Deviation: 1.7405518001102729\n",
      "\n",
      "Red Data Feature: Volatile_Acidity\n",
      "Maximum: 1.58\n",
      "Minimmum: 0.12\n",
      "Mean: 0.5278205128205128\n",
      "Variance: 0.0320423261333205\n",
      "Standard Deviation: 0.17900370424469014\n",
      "\n",
      "Red Data Feature: Citric_Acid\n",
      "Maximum: 1.0\n",
      "Minimmum: 0.0\n",
      "Mean: 0.2709756097560976\n",
      "Variance: 0.03792375112494089\n",
      "Standard Deviation: 0.19474021445233364\n",
      "\n",
      "Red Data Feature: Residual_Sugar\n",
      "Maximum: 15.5\n",
      "Minimmum: 0.9\n",
      "Mean: 2.53880550343965\n",
      "Variance: 1.9866539202698996\n",
      "Standard Deviation: 1.4094871124880495\n",
      "\n",
      "Red Data Feature: Chlorides\n",
      "Maximum: 0.611\n",
      "Minimmum: 0.012\n",
      "Mean: 0.08746654158849279\n",
      "Variance: 0.0022137573233114347\n",
      "Standard Deviation: 0.04705058260331571\n",
      "\n",
      "Red Data Feature: Free_Sulfur_Dioxide\n",
      "Maximum: 72.0\n",
      "Minimmum: 1.0\n",
      "Mean: 15.874921826141339\n",
      "Variance: 109.34645676374501\n",
      "Standard Deviation: 10.45688561493072\n",
      "\n",
      "Red Data Feature: Total_Sulfur_Dioxide\n",
      "Maximum: 289.0\n",
      "Minimmum: 6.0\n",
      "Mean: 46.46779237023139\n",
      "Variance: 1081.42563558916\n",
      "Standard Deviation: 32.88503665178374\n",
      "\n",
      "Red Data Feature: Density\n",
      "Maximum: 1.00369\n",
      "Minimmum: 0.99007\n",
      "Mean: 0.9967466791744841\n",
      "Variance: 3.5598017926307083e-06\n",
      "Standard Deviation: 0.0018867437008323914\n",
      "\n",
      "Red Data Feature: Ph\n",
      "Maximum: 4.01\n",
      "Minimmum: 2.74\n",
      "Mean: 3.3111131957473416\n",
      "Variance: 0.023820274241131787\n",
      "Standard Deviation: 0.15433818141060165\n",
      "\n",
      "Red Data Feature: Sulphates\n",
      "Maximum: 2.0\n",
      "Minimmum: 0.33\n",
      "Mean: 0.6581488430268917\n",
      "Variance: 0.02871464701398349\n",
      "Standard Deviation: 0.16945396724179546\n",
      "\n",
      "Red Data Feature: Alcohol\n",
      "Maximum: 14.9\n",
      "Minimmum: 8.4\n",
      "Mean: 10.422983114446529\n",
      "Variance: 1.1349371714889036\n",
      "Standard Deviation: 1.0653343003437483\n",
      "\n",
      "Red Data Feature: Quality\n",
      "Maximum: 8.0\n",
      "Minimmum: 3.0\n",
      "Mean: 5.6360225140712945\n",
      "Variance: 0.6517605398308277\n",
      "Standard Deviation: 0.8073168769639513\n",
      "\n"
     ]
    }
   ],
   "source": [
    "print('Red Wine Data Exploration\\n')\n",
    "\n",
    "for i in range(redData.shape[-1]):\n",
    "    print('Red Data Feature:', labels[i].title())\n",
    "    print('Maximum:', np.max(redData[:, i]))\n",
    "    print('Minimmum:', np.min(redData[:, i]))\n",
    "    print('Mean:', np.mean(redData[:, i]))\n",
    "    print('Variance:', np.var(redData[:, i]))\n",
    "    print('Standard Deviation:', np.std(redData[:, i]))\n",
    "    print()"
   ]
  },
  {
   "cell_type": "code",
   "execution_count": null,
   "metadata": {},
   "outputs": [],
   "source": []
  }
 ],
 "metadata": {
  "kernelspec": {
   "display_name": "Python 3",
   "language": "python",
   "name": "python3"
  },
  "language_info": {
   "codemirror_mode": {
    "name": "ipython",
    "version": 3
   },
   "file_extension": ".py",
   "mimetype": "text/x-python",
   "name": "python",
   "nbconvert_exporter": "python",
   "pygments_lexer": "ipython3",
   "version": "3.8.5"
  }
 },
 "nbformat": 4,
 "nbformat_minor": 5
}
